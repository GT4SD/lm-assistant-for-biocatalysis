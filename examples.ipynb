{
 "cells": [
  {
   "cell_type": "markdown",
   "metadata": {},
   "source": [
    "# Biocatalysis Assistant Examples\n",
    "This notebook provides examples of how to use the `BiocatalysisAssistant` with Hugging Face as the provider. It includes setting the Hugging Face API key directly in the notebook with various use cases."
   ]
  },
  {
   "cell_type": "markdown",
   "metadata": {},
   "source": [
    "### imports"
   ]
  },
  {
   "cell_type": "code",
   "execution_count": null,
   "metadata": {},
   "outputs": [],
   "source": [
    "import os\n",
    "\n",
    "from lmabc.core import BiocatalysisAssistant"
   ]
  },
  {
   "cell_type": "markdown",
   "metadata": {},
   "source": [
    "### Set Hugging Face API Key\n",
    "To use Hugging Face as the provider, you need to set your Hugging Face API key. You can do this directly in the notebook:"
   ]
  },
  {
   "cell_type": "code",
   "execution_count": null,
   "metadata": {},
   "outputs": [],
   "source": [
    "os.environ[\"HUGGINGFACEHUB_API_TOKEN\"] = \"XXX-XXXX\"\n",
    "os.environ[\"TRANSFORMERS_OFFLINE\"] = \"0\""
   ]
  },
  {
   "cell_type": "markdown",
   "metadata": {},
   "source": [
    "###  Initialize the BiocatalysisAssistant"
   ]
  },
  {
   "cell_type": "code",
   "execution_count": null,
   "metadata": {},
   "outputs": [],
   "source": [
    "model = \"HuggingFaceH4/zephyr-7b-beta\"\n",
    "provider = \"huggingface\"\n",
    "use_memory = True\n",
    "\n",
    "agent = BiocatalysisAssistant(\n",
    "    model=model,\n",
    "    provider=provider,\n",
    "    use_memory=use_memory,\n",
    "    verbose=True,\n",
    "    model_kwargs={\"max_new_tokens\": 50},\n",
    ").initiate_agent()\n",
    "\n",
    "print(\"Agent initialized\")"
   ]
  },
  {
   "cell_type": "markdown",
   "metadata": {},
   "source": [
    "### Example Use Cases"
   ]
  },
  {
   "cell_type": "markdown",
   "metadata": {},
   "source": [
    "#### Example 1: Enzyme Optimization and Binding Site Detection\n",
    "\n",
    "In this example, we provide a reaction, and ask the assistant to detect binding sites and optimize the enzyme.\n",
    "\n"
   ]
  },
  {
   "cell_type": "code",
   "execution_count": null,
   "metadata": {},
   "outputs": [],
   "source": [
    "reaction = \"CC=C1CC1[C@H](N)C(=O)O|MLKVSKSPSLVRLKTRGESVCPISKTVDSFEVSVEYIPRGAVLAIEEFKKMVDSYRGREILHEELAVDLLEKVKAAVNPPYVKVTVKSYYIGVEVEVVAESGGVPPVYI>>C=C1CC1C(=O)C(=O)[O-]\"\n",
    "\n",
    "prompt = f\"\"\"\n",
    "First find the binding sites of this reaction {reaction} then optimize the enzyme.\n",
    "\"\"\"\n",
    "\n",
    "response = agent.invoke({\"input\": prompt})\n",
    "print(response[\"output\"])"
   ]
  },
  {
   "cell_type": "markdown",
   "metadata": {},
   "source": [
    "#### Structure Prediction\n",
    "\n",
    "In this example, we ask the assistant to find the PDB for a given sequence."
   ]
  },
  {
   "cell_type": "code",
   "execution_count": null,
   "metadata": {},
   "outputs": [],
   "source": [
    "prompt = \"Find the structural conformation of this sequence from PDB: MLKTISPLISPELLKVLAEMGHGDEIIFSDAHFPAHSMGPQVIRADGLLVSDLLQAIIPLFELDSYAPPLVMMAAVEGDTLDPEVERRYRNALSLQAPCPDIIRINRFAFYERAQKAFAIVITGERAKYGNILLKKGVTP.\"\n",
    "\n",
    "response = agent.invoke({\"input\": prompt})\n",
    "print(response[\"output\"])"
   ]
  },
  {
   "cell_type": "markdown",
   "metadata": {},
   "source": [
    "### Advanced Use Case\n",
    "\n",
    "In this example, we ask the assistant to help us retrieve a pdb structure for a sequence and then run a mininization experiment."
   ]
  },
  {
   "cell_type": "code",
   "execution_count": null,
   "metadata": {},
   "outputs": [],
   "source": [
    "prompt = \"\"\"\n",
    "Retrieve the PDB structure for MSNKLRLCQVASVKDGEPVAVYQEKMPALAVYNVDGEVFVTDNLCTHGNAMLTDGYQDGTIIECPFHGGSFDIATGAAKAFPCQIPIKTYPVTIEDGWVCIDQPKESA,\n",
    "    download it, adjust the structure to match MSNKLMLCQVASVKDGEPVAVYQEKMPALAVYNVDGEIFVTDNLCTHGNAMLTDGYQDGTIIECPFHGGSFDIATGAAKAFPCQIPIKTYEVTIEDGWVCIDQPKESA,\n",
    "    and run an MD minimization simulation.\n",
    "\"\"\"\n",
    "\n",
    "response = agent.invoke({\"input\": prompt})\n",
    "print(response[\"output\"])"
   ]
  },
  {
   "cell_type": "markdown",
   "metadata": {},
   "source": [
    "### Custom Model and Parameters\n",
    "\n",
    "\n",
    "You can customize the model and parameters for specific use cases. For example, you can adjust the `temperature` parameter for more creative or deterministic outputs."
   ]
  },
  {
   "cell_type": "code",
   "execution_count": null,
   "metadata": {},
   "outputs": [],
   "source": [
    "agent_custom = BiocatalysisAssistant(\n",
    "    model=\"Qwen/Qwen2.5-72B-Instruct\",\n",
    "    provider=\"huggingface\",\n",
    "    use_memory=True,\n",
    "    verbose=True,\n",
    "    model_kwargs={\"temperature\": 0.1},\n",
    ").initiate_agent()\n",
    "\n",
    "prompt = \"What is an enzyme?\"\n",
    "response = agent_custom.invoke({\"input\": prompt})\n",
    "print(response[\"output\"])"
   ]
  }
 ],
 "metadata": {
  "kernelspec": {
   "display_name": "lmabc",
   "language": "python",
   "name": "python3"
  },
  "language_info": {
   "codemirror_mode": {
    "name": "ipython",
    "version": 3
   },
   "file_extension": ".py",
   "mimetype": "text/x-python",
   "name": "python",
   "nbconvert_exporter": "python",
   "pygments_lexer": "ipython3",
   "version": "3.10.16"
  }
 },
 "nbformat": 4,
 "nbformat_minor": 2
}
